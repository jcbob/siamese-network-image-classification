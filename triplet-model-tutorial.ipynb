{
 "cells": [
  {
   "cell_type": "code",
   "execution_count": 1,
   "id": "63657dcd-ff10-449e-ba8d-4ce4da43b5f9",
   "metadata": {},
   "outputs": [],
   "source": [
    "import numpy as np\n",
    "\n",
    "from dataset_loader import *\n",
    "from triplet_loss_class import SiameseModel"
   ]
  },
  {
   "cell_type": "code",
   "execution_count": 2,
   "id": "558bb818-3655-4e41-8698-ee3fd5fe3bc8",
   "metadata": {},
   "outputs": [],
   "source": [
    "TRAIN_DATASET = \"../Training\"\n",
    "TEST_DATASET = \"../Validation\"\n",
    "\n",
    "# target_shape = (100, 100)\n",
    "\n",
    "IMAGE_SIZE = (100,100)\n",
    "\n",
    "BATCH_SIZE = 256\n",
    "BUFFER_SIZE = BATCH_SIZE * 2\n",
    "\n",
    "AUTO = tf.data.AUTOTUNE\n",
    "\n",
    "LEARNING_RATE = 0.0001\n",
    "STEPS_PER_EPOCH = 50\n",
    "VALIDATION_STEPS = 10\n",
    "EPOCHS = 10\n",
    "\n",
    "OUTPUT_PATH = \"output\"\n",
    "MODEL_PATH = os.path.join(OUTPUT_PATH, \"siamese_network\")\n",
    "OUTPUT_IMAGE_PATH = os.path.join(OUTPUT_PATH, \"output_image.png\")"
   ]
  },
  {
   "cell_type": "code",
   "execution_count": 3,
   "id": "957b7c58-2d04-4216-8497-b96e6827b4d4",
   "metadata": {},
   "outputs": [],
   "source": [
    "train_dataset, test_dataset = load_dataset(TRAIN_DATASET, TEST_DATASET, IMAGE_SIZE, BATCH_SIZE, AUTO)"
   ]
  },
  {
   "cell_type": "code",
   "execution_count": 4,
   "id": "07985653-c2d5-4cfb-96bc-32e50fb6b230",
   "metadata": {},
   "outputs": [],
   "source": [
    "from keras.applications import resnet\n",
    "from keras import layers\n",
    "from keras import Model\n",
    "\n",
    "\n",
    "class DistanceLayer(layers.Layer):\n",
    "    \n",
    "    def __init__(self, **kwargs):\n",
    "        super().__init__(**kwargs)\n",
    "\n",
    "    def call(self, anchor, positive, negative):\n",
    "        ap_distance = self.square_distance(anchor, positive)\n",
    "        an_distance = self.square_distance(anchor, negative)\n",
    "        return (ap_distance, an_distance)\n",
    "\n",
    "    def square_distance(self, x, y):\n",
    "        return tf.reduce_sum(tf.square(x - y), axis=-1)\n",
    "\n",
    "\n",
    "def generate_embedding(target_shape):\n",
    "    base_cnn = resnet.ResNet50(\n",
    "        weights=\"imagenet\", input_shape=target_shape + (3,), include_top=False\n",
    "    )\n",
    "    flatten = layers.Flatten()(base_cnn.output)\n",
    "    dense1 = layers.Dense(512, activation=\"relu\")(flatten)\n",
    "    dense1 = layers.BatchNormalization()(dense1)\n",
    "    dense2 = layers.Dense(256, activation=\"relu\")(dense1)\n",
    "    dense2 = layers.BatchNormalization()(dense2)\n",
    "    output = layers.Dense(256)(dense2)\n",
    "\n",
    "    embedding = Model(base_cnn.input, output, name=\"Embedding\")\n",
    "\n",
    "    trainable = False\n",
    "    for layer in base_cnn.layers:\n",
    "        if layer.name == \"conv5_block1_out\":\n",
    "            trainable = True\n",
    "        layer.trainable = trainable\n",
    "\n",
    "    anchor_input = layers.Input(name = \"anchor\", shape = target_shape + (3,))\n",
    "    positive_input = layers.Input(name = \"positive\", shape = target_shape + (3,))\n",
    "    negative_input = layers.Input(name = \"negative\", shape = target_shape + (3,))\n",
    "\n",
    "    distances = DistanceLayer()(\n",
    "        embedding(resnet.preprocess_input(anchor_input)),\n",
    "        embedding(resnet.preprocess_input(positive_input)),\n",
    "        embedding(resnet.preprocess_input(negative_input)),\n",
    "    )\n",
    "    \n",
    "    siamese_network = Model(\n",
    "        inputs = [anchor_input, positive_input, negative_input],\n",
    "        outputs = distances\n",
    "    )\n",
    "    \n",
    "    return siamese_network"
   ]
  },
  {
   "cell_type": "code",
   "execution_count": 5,
   "id": "87321a10-81a3-4e64-afea-a0358d0ff70d",
   "metadata": {},
   "outputs": [],
   "source": [
    "siamese_network = generate_embedding(IMAGE_SIZE)"
   ]
  },
  {
   "cell_type": "code",
   "execution_count": 7,
   "id": "d0c85bcb-920f-49a8-afe6-46401d128809",
   "metadata": {},
   "outputs": [],
   "source": [
    "siamese_model = SiameseModel(siamese_network)"
   ]
  },
  {
   "cell_type": "code",
   "execution_count": null,
   "id": "85fcc7ca-151b-48cb-b4f1-588332a3d335",
   "metadata": {},
   "outputs": [],
   "source": []
  }
 ],
 "metadata": {
  "kernelspec": {
   "display_name": "Python 3 (ipykernel)",
   "language": "python",
   "name": "python3"
  },
  "language_info": {
   "codemirror_mode": {
    "name": "ipython",
    "version": 3
   },
   "file_extension": ".py",
   "mimetype": "text/x-python",
   "name": "python",
   "nbconvert_exporter": "python",
   "pygments_lexer": "ipython3",
   "version": "3.11.8"
  }
 },
 "nbformat": 4,
 "nbformat_minor": 5
}
