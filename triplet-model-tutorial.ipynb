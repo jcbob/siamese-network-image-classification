{
 "cells": [
  {
   "cell_type": "markdown",
   "id": "270e9f57-eff3-49f2-852b-6d3389375ba4",
   "metadata": {},
   "source": [
    "# Triplet Loss Model - tutorial"
   ]
  },
  {
   "cell_type": "code",
   "execution_count": null,
   "id": "63657dcd-ff10-449e-ba8d-4ce4da43b5f9",
   "metadata": {},
   "outputs": [],
   "source": [
    "import numpy as np\n",
    "import tensorflow as tf\n",
    "\n",
    "from triplet_dataset_loader import *\n",
    "from TL_class import SiameseTripletModel\n",
    "from TL_siamese_network import generate_siamese_triplet_network"
   ]
  },
  {
   "cell_type": "code",
   "execution_count": null,
   "id": "558bb818-3655-4e41-8698-ee3fd5fe3bc8",
   "metadata": {},
   "outputs": [],
   "source": [
    "database_path = \"../databases/my-fruit-recognition\"\n",
    "split_ratio = (0.8, 0.2, 0)\n",
    "image_size = (100,100)\n",
    "batch_size = 32\n",
    "\n",
    "auto = tf.data.AUTOTUNE\n",
    "\n",
    "learning_rate = 0.0001\n",
    "steps_per_epoch = 50\n",
    "validation_steps = 10\n",
    "epochs = 10"
   ]
  },
  {
   "cell_type": "markdown",
   "id": "c01b4554-e858-43a4-b0d2-5e91537ac4d7",
   "metadata": {},
   "source": [
    "## Preprocessing data & generating datasets"
   ]
  },
  {
   "cell_type": "code",
   "execution_count": null,
   "id": "18903de1-0b0b-4115-80bb-f026fbff9a2c",
   "metadata": {},
   "outputs": [],
   "source": [
    "train_dataset, val_dataset, test_dataset = create_dataset(database_path, split_ratio, image_size, batch_size)"
   ]
  },
  {
   "cell_type": "markdown",
   "id": "310a3c00-8e13-4122-ba2f-ecb0bd3946ec",
   "metadata": {},
   "source": [
    "## Creating siamese network"
   ]
  },
  {
   "cell_type": "code",
   "execution_count": null,
   "id": "d52719d5-6f30-4b2d-8f52-f52dbeb608d7",
   "metadata": {},
   "outputs": [],
   "source": [
    "triplet_siamese_network = generate_siamese_triplet_network(image_size)"
   ]
  },
  {
   "cell_type": "markdown",
   "id": "7c6afd2a-9938-4dce-8307-313929e3c94d",
   "metadata": {},
   "source": [
    "## Creating the siamese model based on the triplet loss function"
   ]
  },
  {
   "cell_type": "code",
   "execution_count": null,
   "id": "5170735a-6164-4558-955c-0d66b5fcf196",
   "metadata": {},
   "outputs": [],
   "source": [
    "triplet_siamese_model = SiameseTripletModel(triplet_siamese_network)\n",
    "triplet_siamese_model.compile(optimizer=tf.keras.optimizers.Adam(learning_rate))\n",
    "triplet_siamese_model.summary()"
   ]
  },
  {
   "cell_type": "markdown",
   "id": "bc7c6849-2127-437e-a775-62e6db1d3aee",
   "metadata": {},
   "source": [
    "## Training the model"
   ]
  },
  {
   "cell_type": "code",
   "execution_count": null,
   "id": "6c75157f-2468-4490-8fed-ed5b8c3ab428",
   "metadata": {},
   "outputs": [],
   "source": [
    "history = triplet_siamese_model.fit(\n",
    "    train_dataset,\n",
    "    validation_data=val_dataset,\n",
    "    steps_per_epoch=steps_per_epoch,\n",
    "    validation_steps=validation_steps,\n",
    "    epochs=epochs\n",
    ")"
   ]
  },
  {
   "cell_type": "markdown",
   "id": "669936fa-80ae-4438-a491-e57d120d63f8",
   "metadata": {},
   "source": [
    "## Show all the labels (classes)"
   ]
  },
  {
   "cell_type": "code",
   "execution_count": null,
   "id": "cabad544-28ed-4965-8bb0-af2f960f599d",
   "metadata": {
    "scrolled": true
   },
   "outputs": [],
   "source": [
    "triplet_gen = TripletGenerator(database_path, split_ratio)\n",
    "triplet_dict = triplet_gen.get_label_images_dict()\n",
    "for label in triplet_dict:\n",
    "    print(label)"
   ]
  },
  {
   "cell_type": "code",
   "execution_count": null,
   "id": "b6fdfda7-eb93-4abe-a03e-f0fd33deedfd",
   "metadata": {},
   "outputs": [],
   "source": []
  }
 ],
 "metadata": {
  "kernelspec": {
   "display_name": "Python 3 (ipykernel)",
   "language": "python",
   "name": "python3"
  },
  "language_info": {
   "codemirror_mode": {
    "name": "ipython",
    "version": 3
   },
   "file_extension": ".py",
   "mimetype": "text/x-python",
   "name": "python",
   "nbconvert_exporter": "python",
   "pygments_lexer": "ipython3",
   "version": "3.11.8"
  }
 },
 "nbformat": 4,
 "nbformat_minor": 5
}
