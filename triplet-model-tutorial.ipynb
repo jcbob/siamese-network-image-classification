{
 "cells": [
  {
   "cell_type": "code",
   "execution_count": 4,
   "id": "63657dcd-ff10-449e-ba8d-4ce4da43b5f9",
   "metadata": {},
   "outputs": [],
   "source": [
    "import numpy as np\n",
    "\n",
    "from dataset_loader import *"
   ]
  },
  {
   "cell_type": "code",
   "execution_count": 5,
   "id": "558bb818-3655-4e41-8698-ee3fd5fe3bc8",
   "metadata": {},
   "outputs": [],
   "source": [
    "TRAIN_DATASET = \"Training\"\n",
    "TEST_DATASET = \"Validation\"\n",
    "\n",
    "# target_shape = (100, 100)\n",
    "\n",
    "IMAGE_SIZE = (100,100)\n",
    "\n",
    "BATCH_SIZE = 256\n",
    "BUFFER_SIZE = BATCH_SIZE * 2\n",
    "\n",
    "AUTO = tf.data.AUTOTUNE\n",
    "\n",
    "LEARNING_RATE = 0.0001\n",
    "STEPS_PER_EPOCH = 50\n",
    "VALIDATION_STEPS = 10\n",
    "EPOCHS = 10\n",
    "\n",
    "OUTPUT_PATH = \"output\"\n",
    "MODEL_PATH = os.path.join(OUTPUT_PATH, \"siamese_network\")\n",
    "OUTPUT_IMAGE_PATH = os.path.join(OUTPUT_PATH, \"output_image.png\")"
   ]
  },
  {
   "cell_type": "code",
   "execution_count": null,
   "id": "957b7c58-2d04-4216-8497-b96e6827b4d4",
   "metadata": {},
   "outputs": [],
   "source": []
  }
 ],
 "metadata": {
  "kernelspec": {
   "display_name": "Python 3 (ipykernel)",
   "language": "python",
   "name": "python3"
  },
  "language_info": {
   "codemirror_mode": {
    "name": "ipython",
    "version": 3
   },
   "file_extension": ".py",
   "mimetype": "text/x-python",
   "name": "python",
   "nbconvert_exporter": "python",
   "pygments_lexer": "ipython3",
   "version": "3.11.8"
  }
 },
 "nbformat": 4,
 "nbformat_minor": 5
}
