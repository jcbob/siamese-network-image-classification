{
 "cells": [
  {
   "cell_type": "code",
   "execution_count": null,
   "id": "556406e1-b9f0-4c9d-8b4b-62e20331afd9",
   "metadata": {},
   "outputs": [],
   "source": [
    "import numpy as np\n",
    "import matplotlib.pyplot as plt\n",
    "\n",
    "from triplet_dataset_loader import *\n",
    "from TL_class import SiameseTripletModel\n",
    "from TL_siamese_network import generate_siamese_triplet_network"
   ]
  },
  {
   "cell_type": "code",
   "execution_count": null,
   "id": "e9a81af0-4375-416a-8b44-41dac3055183",
   "metadata": {},
   "outputs": [],
   "source": [
    "IMAGE_SIZE = (100,100)\n",
    "\n",
    "image_processor = MapFunction(IMAGE_SIZE)\n",
    "\n",
    "dataset_path = \"../databases/fruit-recognition\"\n",
    "triplet_generator = TripletGenerator(dataset_path)"
   ]
  },
  {
   "cell_type": "code",
   "execution_count": null,
   "id": "b1e69ce4-cecd-4197-b023-0bd98b7bfb25",
   "metadata": {
    "scrolled": true
   },
   "outputs": [],
   "source": [
    "# Function to convert tensor to numpy array and normalize to [0, 1] range for displaying\n",
    "def tensor_to_numpy(image):\n",
    "    image = image.numpy()\n",
    "    image = (image - image.min()) / (image.max() - image.min())\n",
    "    return image"
   ]
  },
  {
   "cell_type": "code",
   "execution_count": null,
   "id": "4b778e79-2ecc-440d-84b0-1e62de1c1309",
   "metadata": {
    "scrolled": true
   },
   "outputs": [],
   "source": [
    "train_generator = triplet_generator.get_train_element()\n",
    "\n",
    "# Number of triplets to fetch and display\n",
    "num_triplets = 5\n",
    "\n",
    "# Create a figure to display the images\n",
    "fig, axes = plt.subplots(num_triplets, 3, figsize=(15, 10))\n",
    "\n",
    "for i in range(num_triplets):\n",
    "    # Get a single triplet\n",
    "    anchor_path, positive_path, negative_path = next(train_generator)\n",
    "    \n",
    "    # Process images using MapFunction\n",
    "    anchor_image, positive_image, negative_image = image_processor(anchor_path, positive_path, negative_path)\n",
    "    \n",
    "    # Convert tensors to numpy arrays for displaying\n",
    "    anchor_image = tensor_to_numpy(anchor_image)\n",
    "    positive_image = tensor_to_numpy(positive_image)\n",
    "    negative_image = tensor_to_numpy(negative_image)\n",
    "    \n",
    "    # Display the images\n",
    "    axes[i, 0].imshow(anchor_image)\n",
    "    axes[i, 0].set_title('Anchor')\n",
    "    axes[i, 0].axis('off')\n",
    "    axes[i, 1].imshow(positive_image)\n",
    "    axes[i, 1].set_title('Positive')\n",
    "    axes[i, 1].axis('off')\n",
    "    axes[i, 2].imshow(negative_image)\n",
    "    axes[i, 2].set_title('Negative')\n",
    "    axes[i, 2].axis('off')\n",
    "\n",
    "plt.tight_layout()\n",
    "plt.show()"
   ]
  },
  {
   "cell_type": "code",
   "execution_count": null,
   "id": "76602767-faea-43cb-bf7b-a518cc2f603d",
   "metadata": {},
   "outputs": [],
   "source": []
  }
 ],
 "metadata": {
  "kernelspec": {
   "display_name": "tensorflow_env_kernel",
   "language": "python",
   "name": "tensorflow_env"
  },
  "language_info": {
   "codemirror_mode": {
    "name": "ipython",
    "version": 3
   },
   "file_extension": ".py",
   "mimetype": "text/x-python",
   "name": "python",
   "nbconvert_exporter": "python",
   "pygments_lexer": "ipython3",
   "version": "3.11.8"
  }
 },
 "nbformat": 4,
 "nbformat_minor": 5
}
