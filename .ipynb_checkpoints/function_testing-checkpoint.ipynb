{
 "cells": [
  {
   "cell_type": "code",
   "execution_count": 12,
   "id": "074e2219-335d-4faf-b746-4721ec07b0c1",
   "metadata": {},
   "outputs": [],
   "source": [
    "import tensorflow as tf\n",
    "import numpy as np\n",
    "import random\n",
    "import os\n",
    "from dataset_loader import *\n",
    "from triplet_loss_class import SiameseModel\n"
   ]
  },
  {
   "cell_type": "code",
   "execution_count": 2,
   "id": "64d5a92a-fbe8-4b23-83e7-4bf18f065a9a",
   "metadata": {},
   "outputs": [],
   "source": [
    "TRAIN_DATASET = \"../Training\"\n",
    "TEST_DATASET = \"../Validation\"\n",
    "\n",
    "IMAGE_SIZE = (100,100)\n",
    "BATCH_SIZE = 256\n",
    "AUTO = tf.data.AUTOTUNE"
   ]
  },
  {
   "cell_type": "code",
   "execution_count": 6,
   "id": "b8a180b3-bcf2-4c9e-9170-89b60d0148fe",
   "metadata": {},
   "outputs": [
    {
     "data": {
      "text/plain": [
       "tensorflow.python.data.ops.flat_map_op._FlatMapDataset"
      ]
     },
     "execution_count": 6,
     "metadata": {},
     "output_type": "execute_result"
    }
   ],
   "source": [
    "type(load_train_dataset(TRAIN_DATASET))"
   ]
  },
  {
   "cell_type": "code",
   "execution_count": 7,
   "id": "f365b39d-6592-4e6d-85ae-ad3f53720b6a",
   "metadata": {},
   "outputs": [],
   "source": [
    "load_dataset(TRAIN_DATASET, TEST_DATASET, IMAGE_SIZE, BATCH_SIZE, AUTO)"
   ]
  },
  {
   "cell_type": "code",
   "execution_count": 13,
   "id": "00e62324-d712-46ff-b925-2b1aebe28b11",
   "metadata": {},
   "outputs": [
    {
     "ename": "NameError",
     "evalue": "name 'siamese_network' is not defined",
     "output_type": "error",
     "traceback": [
      "\u001b[0;31m---------------------------------------------------------------------------\u001b[0m",
      "\u001b[0;31mNameError\u001b[0m                                 Traceback (most recent call last)",
      "Cell \u001b[0;32mIn[13], line 1\u001b[0m\n\u001b[0;32m----> 1\u001b[0m siamese_model \u001b[38;5;241m=\u001b[39m SiameseModel(siamese_network)\n",
      "\u001b[0;31mNameError\u001b[0m: name 'siamese_network' is not defined"
     ]
    }
   ],
   "source": [
    "siamese_model = SiameseModel(siamese_network)"
   ]
  },
  {
   "cell_type": "code",
   "execution_count": null,
   "id": "556406e1-b9f0-4c9d-8b4b-62e20331afd9",
   "metadata": {},
   "outputs": [],
   "source": []
  }
 ],
 "metadata": {
  "kernelspec": {
   "display_name": "tensorflow_env_kernel",
   "language": "python",
   "name": "tensorflow_env"
  },
  "language_info": {
   "codemirror_mode": {
    "name": "ipython",
    "version": 3
   },
   "file_extension": ".py",
   "mimetype": "text/x-python",
   "name": "python",
   "nbconvert_exporter": "python",
   "pygments_lexer": "ipython3",
   "version": "3.11.8"
  }
 },
 "nbformat": 4,
 "nbformat_minor": 5
}
