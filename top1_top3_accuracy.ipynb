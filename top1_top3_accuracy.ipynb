{
 "cells": [
  {
   "cell_type": "markdown",
   "id": "2eaa4d99-7219-4a44-8e62-7a872ce78699",
   "metadata": {},
   "source": [
    "# ocena modelu"
   ]
  },
  {
   "cell_type": "code",
   "execution_count": null,
   "id": "fd7cf2bc-081e-454b-a452-20cb1727a5f6",
   "metadata": {},
   "outputs": [],
   "source": [
    "#embbeding_network = wytrenowany model"
   ]
  },
  {
   "cell_type": "code",
   "execution_count": null,
   "id": "bc686b93-9578-47c5-a60f-44702ad2b8f5",
   "metadata": {},
   "outputs": [],
   "source": [
    "import numpy as np\n",
    "\n",
    "#funkcje operujące na wektorach zwracające spośród listy wektorów\n",
    "#wektor najbliższy do wektora podanego w parametrach wywołania funkcji\n",
    "\n",
    "def euclidean_distance(vec1, vec2):\n",
    "    return np.linalg.norm(vec1 - vec2)\n",
    "\n",
    "def top1_accuracy(vector_anchor, list_of_vectors):\n",
    "    closest_vec = None\n",
    "    min_distance = float('inf')\n",
    "    for vector in list_of_vectors:\n",
    "        distance = euclidean_distance(vector_anchor, vector)\n",
    "        if distance < min_distance:\n",
    "            min_distance = distance\n",
    "            closest_vec = vector\n",
    "    return closest_vec\n",
    "\n",
    "def top3_accuracy(vector_anchor, list_of_vectors):\n",
    "    # Oblicz odległości od wektora kotwicy dla wszystkich wektorów w liście\n",
    "    distances = [(vector, euclidean_distance(vector_anchor, vector)) for vector in list_of_vectors]\n",
    "    \n",
    "    # Posortuj według odległości rosnąco\n",
    "    distances.sort(key=lambda x: x[1])\n",
    "    \n",
    "    # Zwroc pierwsze trzy elementy (najbliższe wektory)\n",
    "    closest_3_vecs = [item[0] for item in distances[:3]]\n",
    "    return closest_3_vecs"
   ]
  },
  {
   "cell_type": "code",
   "execution_count": null,
   "id": "eccd312b-356e-4f3d-a2b9-ddbb23743075",
   "metadata": {},
   "outputs": [],
   "source": [
    "# Uzyskaj model do generowania embeddingów\n",
    "embedding_model = embedding_network"
   ]
  },
  {
   "cell_type": "code",
   "execution_count": null,
   "id": "f171fac4-a6c6-412c-a016-f5d88fff93d9",
   "metadata": {},
   "outputs": [],
   "source": [
    "# Ścieżka do głównego folderu zbioru testowego\n",
    "base_test_folder = \"sciezka_do_bazy_danych/fruits-360_dataset/fruits-360/Test/\"\n",
    "\n",
    "# Lista ścieżek do pierwszego zdjęcia w każdym z podfolderów\n",
    "first_image_paths = []\n",
    "\n",
    "# Przeglądanie każdego folderu w zbiorze testowym\n",
    "for root, dirs, files in os.walk(base_test_folder):\n",
    "    # Sprawdź, czy bieżący folder ma jakieś pliki\n",
    "    if files:\n",
    "        # Sortowanie plików w celu uzyskania pierwszego według nazwy\n",
    "        files_sorted = sorted(files)\n",
    "        # Dodaj pełną ścieżkę do pierwszego pliku\n",
    "        first_image_path = os.path.join(root, files_sorted[0])\n",
    "        first_image_paths.append(first_image_path)\n",
    "\n",
    "# Wyświetlenie listy ścieżek\n",
    "for path in first_image_paths:\n",
    "    print(path)"
   ]
  },
  {
   "cell_type": "code",
   "execution_count": null,
   "id": "721fa88e-eed4-46c3-ba72-c9aea0579d53",
   "metadata": {},
   "outputs": [],
   "source": [
    "first_images = [mapF.decode_and_resize(image_path) for image_path in first_image_paths]\n",
    "\n",
    "# Oblicz embedingi dla referencyjnych obrazów\n",
    "first_embeddings = embedding_model.predict(np.array(first_images))"
   ]
  },
  {
   "cell_type": "code",
   "execution_count": null,
   "id": "d874a397-0f74-497e-98a8-4c061d6cc373",
   "metadata": {},
   "outputs": [],
   "source": [
    "# Przygotuj obraz zapytania\n",
    "query_image_path = \"sciezka_do_zdjecia_zapytania_(query)\"\n",
    "query_image = mapF.decode_and_resize(query_image_path)\n",
    "\n",
    "# Oblicz embedding dla obrazu zapytania\n",
    "query_embedding = embedding_model.predict(np.array([query_image]))[0]"
   ]
  },
  {
   "cell_type": "code",
   "execution_count": null,
   "id": "a3fb7ffb-786d-4191-adf8-21f361524304",
   "metadata": {},
   "outputs": [],
   "source": [
    "# Znajdź najbliższy obraz (Top-1)\n",
    "closest_vector = top1_accuracy(query_embedding, first_embeddings)\n",
    "\n",
    "# Ustal indeks najbliższego wektora\n",
    "closest_image_index = np.argmin([euclidean_distance(closest_vector, vec) for vec in first_embeddings])\n",
    "\n",
    "# Wydrukuj ścieżkę do najbliższego obrazu\n",
    "print(\"Najbliższy obraz:\", first_image_paths[closest_image_index])\n",
    "\n",
    "# Uzyskaj trzy najbliższe wektory (Top-3)\n",
    "closest_3_vectors = top3_accuracy(query_embedding, first_embeddings)\n",
    "\n",
    "# Znajdź indeksy odpowiadające tym wektorom w liście referencyjnej\n",
    "closest_3_indices = [np.argmin([euclidean_distance(vec, ref_vec) for ref_vec in first_embeddings]) for vec in closest_3_vectors]\n",
    "\n",
    "\n",
    "# Wydrukuj ścieżki do trzech najbliższych obrazów\n",
    "print(\"Trzy najbliższe obrazy:\", [first_image_paths[i] for i in closest_3_indices])"
   ]
  },
  {
   "cell_type": "code",
   "execution_count": null,
   "id": "a42d1013-8c60-48fb-a879-1834033ac1ac",
   "metadata": {},
   "outputs": [],
   "source": [
    "# Prawidłowe indeksy dla trzech najbliższych wektorów\n",
    "closest_3_indices = [\n",
    "    np.argmin([euclidean_distance(vec, ref_vec) for ref_vec in first_embeddings])\n",
    "    for vec in closest_3_vectors\n",
    "]\n",
    "\n",
    "# Prawidłowy indeks dla top-1\n",
    "closest_1_index = np.argmin([euclidean_distance(closest_vector, vec) for vec in first_embeddings])\n",
    "\n",
    "# Wyświetl top-1 obraz\n",
    "plt.figure(figsize=(2, 2))  # Rozmiar figury 2x2 cale\n",
    "top1_image = mpimg.imread(first_image_paths[closest_1_index])\n",
    "\n",
    "plt.title(\"top1\")  # Użycie numeracji sekwencyjnej\n",
    "plt.imshow(top1_image)\n",
    "plt.axis(\"off\")  # Wyłączenie osi dla lepszego widoku\n",
    "plt.show()\n",
    "\n",
    "# Załaduj i wyświetl obrazy z listy 'closest_3_indices'\n",
    "plt.figure(figsize=(6, 2))  # Większy rozmiar dla 3 obrazów\n",
    "for idx, index in enumerate(closest_3_indices):\n",
    "    img = mpimg.imread(first_image_paths[index])\n",
    "    plt.subplot(1, 3, idx + 1)  # 1 rząd, 3 kolumny, indeksy idą od 1 do 3\n",
    "    plt.title(f\"top {idx + 1}\")  # Użycie numeracji sekwencyjnej\n",
    "    plt.imshow(img)\n",
    "    plt.axis(\"off\")  # Wyłączenie osi dla lepszego widoku\n",
    "\n",
    "# Wyświetlenie wszystkich obrazów obok siebie w jednym wierszu\n",
    "plt.tight_layout()  # Ustawienie automatyczne dla lepszego rozmieszczenia\n",
    "plt.show()  # Wyświetlenie wszystkich subplotów na raz"
   ]
  }
 ],
 "metadata": {
  "kernelspec": {
   "display_name": "Python 3 (ipykernel)",
   "language": "python",
   "name": "python3"
  },
  "language_info": {
   "codemirror_mode": {
    "name": "ipython",
    "version": 3
   },
   "file_extension": ".py",
   "mimetype": "text/x-python",
   "name": "python",
   "nbconvert_exporter": "python",
   "pygments_lexer": "ipython3",
   "version": "3.11.8"
  }
 },
 "nbformat": 4,
 "nbformat_minor": 5
}
