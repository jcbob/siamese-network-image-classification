{
 "cells": [
  {
   "cell_type": "code",
   "execution_count": 29,
   "id": "0c7535e1",
   "metadata": {},
   "outputs": [],
   "source": [
    "# import the necessary packages\n",
    "import tensorflow as tf\n",
    "import numpy as np\n",
    "import random\n",
    "import os\n",
    "import loadDataset_contrasstive as ldc\n",
    "import ContrastiveModel as cm"
   ]
  },
  {
   "cell_type": "markdown",
   "id": "070b9af4",
   "metadata": {},
   "source": [
    "# Define parametes"
   ]
  },
  {
   "cell_type": "code",
   "execution_count": 25,
   "id": "44467da9",
   "metadata": {},
   "outputs": [],
   "source": [
    "\n",
    "\n",
    "# model input image size\n",
    "IMAGE_SIZE = (100,100)\n",
    "\n",
    "# batch size and the buffer size\n",
    "\n",
    "BATCH_SIZE = 256\n",
    "BUFFER_SIZE = BATCH_SIZE * 2\n",
    "\n",
    "# define autotune\n",
    "AUTO = tf.data.AUTOTUNE\n",
    "\n",
    "# define the training parameters\n",
    "LEARNING_RATE = 0.0001\n",
    "STEPS_PER_EPOCH = 20\n",
    "VALIDATION_STEPS = 10\n",
    "EPOCHS = 5\n",
    "\n",
    "# define the path to save the model\n",
    "OUTPUT_PATH = \"output\"\n",
    "MODEL_PATH = os.path.join(OUTPUT_PATH, \"siamese_network\")\n",
    "OUTPUT_IMAGE_PATH = os.path.join(OUTPUT_PATH, \"output_image.png\")\n",
    "\n",
    "epochs = 10\n",
    "batch_size = 64\n",
    "margin = 1 "
   ]
  },
  {
   "cell_type": "code",
   "execution_count": 73,
   "id": "fd236e78",
   "metadata": {},
   "outputs": [],
   "source": []
  },
  {
   "cell_type": "markdown",
   "id": "6eba06d8",
   "metadata": {},
   "source": [
    "# PairGenerator"
   ]
  },
  {
   "cell_type": "code",
   "execution_count": 74,
   "id": "8d82ce05",
   "metadata": {},
   "outputs": [],
   "source": [
    "train_path=\"../Training\"\n",
    "\n",
    "val_path=\"../Test\"\n",
    "\n",
    "train_dataset=ldc.create_dataset(train_path, IMAGE_SIZE, batch_size)\n",
    "val_dataset=ldc.create_dataset(val_path, IMAGE_SIZE, batch_size)\n",
    "                     "
   ]
  },
  {
   "cell_type": "markdown",
   "id": "820d6465",
   "metadata": {},
   "source": [
    "# Calculate Distance"
   ]
  },
  {
   "cell_type": "code",
   "execution_count": null,
   "id": "bc26163c-0ff5-42ba-aeb9-9ba38a4e4821",
   "metadata": {
    "tags": []
   },
   "outputs": [],
   "source": [
    "\n",
    "def euclidean_distance(vects):\n",
    "    \"\"\"Find the Euclidean distance between two vectors.\n",
    "\n",
    "    Arguments:\n",
    "        vects: List containing two tensors of same length.\n",
    "\n",
    "    Returns:\n",
    "        Tensor containing euclidean distance\n",
    "        (as floating point value) between vectors.\n",
    "    \"\"\"\n",
    "\n",
    "    x, y = vects\n",
    "    sum_square = tf.keras.backend.sum(tf.keras.backend.square(x - y), axis=1, keepdims=True)\n",
    "    return tf.keras.backend.sqrt(tf.keras.backend.maximum(sum_square, tf.keras.backend.epsilon()))"
   ]
  },
  {
   "cell_type": "markdown",
   "id": "e9c11faf-b505-415c-92e3-be4ac4061785",
   "metadata": {},
   "source": [
    "# Creating model\n"
   ]
  },
  {
   "cell_type": "code",
   "execution_count": 17,
   "id": "d6ab803b",
   "metadata": {},
   "outputs": [],
   "source": [
    "input_shape=(100,100,3)\n",
    "input_1= tf.keras.layers.Input(input_shape)\n",
    "input_2= tf.keras.layers.Input(input_shape)\n",
    "\n",
    "embeding_network=create_embeding(input_shape)\n",
    "\n",
    "tower_1 = embedding_network(input_1)\n",
    "tower_2 = embedding_network(input_2)\n",
    "\n",
    "merge_layer = tf.keras.layers.Lambda(euclidean_distance, output_shape=(1,))(\n",
    "    [tower_1, tower_2]\n",
    ")\n",
    "normal_layer = tf.keras.layers.BatchNormalization()(merge_layer)\n",
    "output_layer = tf.keras.layers.Dense(1, activation=\"sigmoid\")(normal_layer)\n",
    "siamese = tf.keras.Model(inputs=[input_1, input_2], outputs=output_layer)"
   ]
  },
  {
   "cell_type": "markdown",
   "id": "edc1b5f0",
   "metadata": {},
   "source": [
    "# Define the contrastive loss\n"
   ]
  },
  {
   "cell_type": "code",
   "execution_count": 18,
   "id": "650d1e62",
   "metadata": {},
   "outputs": [],
   "source": [
    "def loss(margin=1):\n",
    "    \"\"\"Provides 'contrastive_loss' an enclosing scope with variable 'margin'.\n",
    "\n",
    "    Arguments:\n",
    "        margin: Integer, defines the baseline for distance for which pairs\n",
    "                should be classified as dissimilar. - (default is 1).\n",
    "\n",
    "    Returns:\n",
    "        'contrastive_loss' function with data ('margin') attached.\n",
    "    \"\"\"\n",
    "\n",
    "    def contrastive_loss(y_true, y_pred):\n",
    "        y_true = tf.cast(y_true, tf.float32)\n",
    "\n",
    "\n",
    "        square_pred = tf.keras.backend.square(y_pred)\n",
    "        margin_square = tf.keras.backend.square(tf.keras.backend.maximum(margin - y_pred, 0))\n",
    "        return tf.keras.backend.mean((1 - y_true) * square_pred + (y_true) * margin_square)\n",
    "\n",
    "\n",
    "    return contrastive_loss"
   ]
  },
  {
   "cell_type": "code",
   "execution_count": 26,
   "id": "6856ca0b",
   "metadata": {},
   "outputs": [
    {
     "name": "stdout",
     "output_type": "stream",
     "text": [
      "Model: \"model_6\"\n",
      "__________________________________________________________________________________________________\n",
      " Layer (type)                Output Shape                 Param #   Connected to                  \n",
      "==================================================================================================\n",
      " input_8 (InputLayer)        [(None, 100, 100, 3)]        0         []                            \n",
      "                                                                                                  \n",
      " input_9 (InputLayer)        [(None, 100, 100, 3)]        0         []                            \n",
      "                                                                                                  \n",
      " model_4 (Functional)        (None, 100)                  807408    ['input_8[0][0]']             \n",
      "                                                                                                  \n",
      " model_5 (Functional)        (None, 100)                  807408    ['input_9[0][0]']             \n",
      "                                                                                                  \n",
      " lambda_2 (Lambda)           (None, 1)                    0         ['model_4[0][0]',             \n",
      "                                                                     'model_5[0][0]']             \n",
      "                                                                                                  \n",
      " batch_normalization_11 (Ba  (None, 1)                    4         ['lambda_2[0][0]']            \n",
      " tchNormalization)                                                                                \n",
      "                                                                                                  \n",
      " dense_6 (Dense)             (None, 1)                    2         ['batch_normalization_11[0][0]\n",
      "                                                                    ']                            \n",
      "                                                                                                  \n",
      "==================================================================================================\n",
      "Total params: 1614822 (6.16 MB)\n",
      "Trainable params: 1583832 (6.04 MB)\n",
      "Non-trainable params: 30990 (121.05 KB)\n",
      "__________________________________________________________________________________________________\n"
     ]
    }
   ],
   "source": [
    "siamese.compile(loss=loss(margin=margin), optimizer=\"RMSprop\", metrics=[\"accuracy\"])\n",
    "siamese.summary()"
   ]
  },
  {
   "cell_type": "code",
   "execution_count": 27,
   "id": "bcccd7df",
   "metadata": {},
   "outputs": [],
   "source": []
  },
  {
   "cell_type": "code",
   "execution_count": 28,
   "id": "8b8f5eec",
   "metadata": {},
   "outputs": [
    {
     "name": "stdout",
     "output_type": "stream",
     "text": [
      "Epoch 1/10\n",
      "20/20 [==============================] - 29s 1s/step - loss: 0.1409 - accuracy: 0.8938 - val_loss: 0.1507 - val_accuracy: 0.8313\n",
      "Epoch 2/10\n",
      "20/20 [==============================] - 13s 679ms/step - loss: 0.1388 - accuracy: 0.8813 - val_loss: 0.1469 - val_accuracy: 0.8484\n",
      "Epoch 3/10\n",
      "20/20 [==============================] - 14s 719ms/step - loss: 0.1336 - accuracy: 0.8906 - val_loss: 0.1378 - val_accuracy: 0.8703\n",
      "Epoch 4/10\n",
      "20/20 [==============================] - 13s 648ms/step - loss: 0.1326 - accuracy: 0.8859 - val_loss: 0.1295 - val_accuracy: 0.8625\n",
      "Epoch 5/10\n",
      "20/20 [==============================] - 13s 647ms/step - loss: 0.1295 - accuracy: 0.8820 - val_loss: 0.1402 - val_accuracy: 0.8547\n",
      "Epoch 6/10\n",
      "20/20 [==============================] - 12s 622ms/step - loss: 0.1290 - accuracy: 0.8828 - val_loss: 0.1423 - val_accuracy: 0.8375\n",
      "Epoch 7/10\n",
      "20/20 [==============================] - 12s 632ms/step - loss: 0.1282 - accuracy: 0.8734 - val_loss: 0.1301 - val_accuracy: 0.8547\n",
      "Epoch 8/10\n",
      "20/20 [==============================] - 12s 612ms/step - loss: 0.1206 - accuracy: 0.8891 - val_loss: 0.1245 - val_accuracy: 0.8656\n",
      "Epoch 9/10\n",
      "20/20 [==============================] - 11s 588ms/step - loss: 0.1199 - accuracy: 0.8789 - val_loss: 0.1164 - val_accuracy: 0.8672\n",
      "Epoch 10/10\n",
      "20/20 [==============================] - 11s 574ms/step - loss: 0.1180 - accuracy: 0.8867 - val_loss: 0.1108 - val_accuracy: 0.8656\n"
     ]
    }
   ],
   "source": [
    "history = siamese.fit(\n",
    "    train_dataset,\n",
    "    validation_data=val_dataset,\n",
    "    steps_per_epoch=STEPS_PER_EPOCH,\n",
    "    validation_steps=VALIDATION_STEPS,\n",
    "    epochs=10\n",
    ")"
   ]
  },
  {
   "cell_type": "code",
   "execution_count": null,
   "id": "8981fbae",
   "metadata": {},
   "outputs": [],
   "source": []
  }
 ],
 "metadata": {
  "kernelspec": {
   "display_name": "Python 3 (ipykernel)",
   "language": "python",
   "name": "python3"
  },
  "language_info": {
   "codemirror_mode": {
    "name": "ipython",
    "version": 3
   },
   "file_extension": ".py",
   "mimetype": "text/x-python",
   "name": "python",
   "nbconvert_exporter": "python",
   "pygments_lexer": "ipython3",
   "version": "3.9.7"
  }
 },
 "nbformat": 4,
 "nbformat_minor": 5
}
