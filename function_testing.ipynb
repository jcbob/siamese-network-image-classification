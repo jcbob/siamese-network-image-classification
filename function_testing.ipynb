{
 "cells": [
  {
   "cell_type": "code",
   "execution_count": 13,
   "id": "074e2219-335d-4faf-b746-4721ec07b0c1",
   "metadata": {},
   "outputs": [],
   "source": [
    "import tensorflow as tf\n",
    "import numpy as np\n",
    "import random\n",
    "import os\n",
    "from dataset_loader import load_dataset"
   ]
  },
  {
   "cell_type": "code",
   "execution_count": 14,
   "id": "64d5a92a-fbe8-4b23-83e7-4bf18f065a9a",
   "metadata": {},
   "outputs": [],
   "source": [
    "TRAIN_DATASET = \"../Training\"\n",
    "TEST_DATASET = \"../Validation\"\n",
    "\n",
    "IMAGE_SIZE = (100,100)\n",
    "\n",
    "BATCH_SIZE = 256\n",
    "AUTO = tf.data.AUTOTUNE"
   ]
  },
  {
   "cell_type": "code",
   "execution_count": 18,
   "id": "b8a180b3-bcf2-4c9e-9170-89b60d0148fe",
   "metadata": {},
   "outputs": [
    {
     "data": {
      "text/plain": [
       "NoneType"
      ]
     },
     "execution_count": 18,
     "metadata": {},
     "output_type": "execute_result"
    }
   ],
   "source": [
    "type(load_train_dataset(TRAIN_DATASET))"
   ]
  },
  {
   "cell_type": "code",
   "execution_count": 16,
   "id": "f365b39d-6592-4e6d-85ae-ad3f53720b6a",
   "metadata": {},
   "outputs": [
    {
     "ename": "AttributeError",
     "evalue": "'NoneType' object has no attribute 'map'",
     "output_type": "error",
     "traceback": [
      "\u001b[0;31m---------------------------------------------------------------------------\u001b[0m",
      "\u001b[0;31mAttributeError\u001b[0m                            Traceback (most recent call last)",
      "Cell \u001b[0;32mIn[16], line 1\u001b[0m\n\u001b[0;32m----> 1\u001b[0m load_dataset(TRAIN_DATASET, TEST_DATASET, IMAGE_SIZE, BATCH_SIZE, AUTO)\n",
      "File \u001b[0;32m~/Documents/repositories/github/projekt_zestpolowy_github/siamese-network-image-classification/dataset_loader.py:100\u001b[0m, in \u001b[0;36mload_dataset\u001b[0;34m(data_train_path, data_test_path, image_size, batch_size, auto)\u001b[0m\n\u001b[1;32m     97\u001b[0m map_fn \u001b[38;5;241m=\u001b[39m MapFunction(image_size)\n\u001b[1;32m     99\u001b[0m train_dataset \u001b[38;5;241m=\u001b[39m load_train_dataset(data_train_path)\n\u001b[0;32m--> 100\u001b[0m train_dataset \u001b[38;5;241m=\u001b[39m train_dataset\u001b[38;5;241m.\u001b[39mmap(map_fn)\n\u001b[1;32m    102\u001b[0m validation_dataset \u001b[38;5;241m=\u001b[39m load_test_dataset(data_test_path)\n\u001b[1;32m    103\u001b[0m validation_dataset \u001b[38;5;241m=\u001b[39m validation_dataset\u001b[38;5;241m.\u001b[39mmap(map_fn)\n",
      "\u001b[0;31mAttributeError\u001b[0m: 'NoneType' object has no attribute 'map'"
     ]
    }
   ],
   "source": [
    "load_dataset(TRAIN_DATASET, TEST_DATASET, IMAGE_SIZE, BATCH_SIZE, AUTO)"
   ]
  },
  {
   "cell_type": "code",
   "execution_count": null,
   "id": "00e62324-d712-46ff-b925-2b1aebe28b11",
   "metadata": {},
   "outputs": [],
   "source": []
  }
 ],
 "metadata": {
  "kernelspec": {
   "display_name": "tensorflow_env_kernel",
   "language": "python",
   "name": "tensorflow_env"
  },
  "language_info": {
   "codemirror_mode": {
    "name": "ipython",
    "version": 3
   },
   "file_extension": ".py",
   "mimetype": "text/x-python",
   "name": "python",
   "nbconvert_exporter": "python",
   "pygments_lexer": "ipython3",
   "version": "3.11.8"
  }
 },
 "nbformat": 4,
 "nbformat_minor": 5
}
