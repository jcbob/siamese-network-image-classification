{
 "cells": [
  {
   "cell_type": "code",
   "execution_count": 12,
   "id": "fa385e62-a4c3-4abc-98ea-7b326e332be8",
   "metadata": {},
   "outputs": [],
   "source": [
    "import tensorflow as tf\n",
    "import numpy as np\n",
    "import random\n",
    "import os\n",
    "from dataset_loader import load_dataset, load_test_dataset, load_train_dataset"
   ]
  },
  {
   "cell_type": "code",
   "execution_count": 13,
   "id": "5ca82bbe-be1e-4da4-989e-bee01b80883d",
   "metadata": {},
   "outputs": [],
   "source": [
    "TRAIN_DATASET = \"../Training\"\n",
    "TEST_DATASET = \"../Validation\"\n",
    "\n",
    "IMAGE_SIZE = (100,100)\n",
    "\n",
    "BATCH_SIZE = 256\n",
    "AUTO = tf.data.AUTOTUNE"
   ]
  },
  {
   "cell_type": "code",
   "execution_count": 14,
   "id": "57f6190c-8049-4f8a-a975-27aebc788de0",
   "metadata": {},
   "outputs": [
    {
     "ename": "NameError",
     "evalue": "name 'tf' is not defined",
     "output_type": "error",
     "traceback": [
      "\u001b[0;31m---------------------------------------------------------------------------\u001b[0m",
      "\u001b[0;31mNameError\u001b[0m                                 Traceback (most recent call last)",
      "Cell \u001b[0;32mIn[14], line 1\u001b[0m\n\u001b[0;32m----> 1\u001b[0m load_dataset(TRAIN_DATASET, TEST_DATASET, IMAGE_SIZE, BATCH_SIZE, AUTO)\n",
      "File \u001b[0;32m~/Documents/repositories/github/projekt_zestpolowy_github/siamese-network-image-classification/dataset_loader.py:92\u001b[0m, in \u001b[0;36mload_dataset\u001b[0;34m(data_train_path, data_test_path, image_size, batch_size, auto)\u001b[0m\n\u001b[1;32m     90\u001b[0m map_fn = MapFunction(image_size)\n\u001b[1;32m     91\u001b[0m \n\u001b[0;32m---> 92\u001b[0m train_dataset = load_train_dataset(data_train_path)\n\u001b[1;32m     93\u001b[0m train_dataset = train_dataset.map(map_fn)\n\u001b[1;32m     94\u001b[0m \n",
      "File \u001b[0;32m~/Documents/repositories/github/projekt_zestpolowy_github/siamese-network-image-classification/dataset_loader.py:69\u001b[0m, in \u001b[0;36mload_train_dataset\u001b[0;34m(data_train_path)\u001b[0m\n\u001b[1;32m     67\u001b[0m \n\u001b[1;32m     68\u001b[0m def load_train_dataset(data_train_path):\n\u001b[0;32m---> 69\u001b[0m     train_dataset = tf.data.Dataset.from_generator(\n\u001b[1;32m     70\u001b[0m         TripletGenerator(data_train_path).get_next_element,\n\u001b[1;32m     71\u001b[0m         output_signature=(\n",
      "\u001b[0;31mNameError\u001b[0m: name 'tf' is not defined"
     ]
    }
   ],
   "source": [
    "load_dataset(TRAIN_DATASET, TEST_DATASET, IMAGE_SIZE, BATCH_SIZE, AUTO)"
   ]
  },
  {
   "cell_type": "code",
   "execution_count": null,
   "id": "64d5a92a-fbe8-4b23-83e7-4bf18f065a9a",
   "metadata": {},
   "outputs": [],
   "source": []
  }
 ],
 "metadata": {
  "kernelspec": {
   "display_name": "tensorflow_env_kernel",
   "language": "python",
   "name": "tensorflow_env"
  },
  "language_info": {
   "codemirror_mode": {
    "name": "ipython",
    "version": 3
   },
   "file_extension": ".py",
   "mimetype": "text/x-python",
   "name": "python",
   "nbconvert_exporter": "python",
   "pygments_lexer": "ipython3",
   "version": "3.11.8"
  }
 },
 "nbformat": 4,
 "nbformat_minor": 5
}
