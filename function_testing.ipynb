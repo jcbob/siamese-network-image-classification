{
 "cells": [
  {
   "cell_type": "code",
   "execution_count": null,
   "id": "c5cbe595-345c-4401-a98c-0d1d6b60db2c",
   "metadata": {},
   "outputs": [],
   "source": [
    "import numpy as np\n",
    "import tensorflow as tf\n",
    "import os\n",
    "\n",
    "from triplet_dataset_loader import *\n",
    "from TL_class import SiameseTripletModel\n",
    "from TL_siamese_network import generate_siamese_triplet_network\n",
    "from top_accuracy_functions import *\n",
    "\n",
    "database_path = \"../databases/my-fruit-recognition\"\n",
    "split_ratio = (0.8, 0.1, 0.1)\n",
    "image_size = (100,100)\n",
    "batch_size = 32\n",
    "\n",
    "auto = tf.data.AUTOTUNE\n",
    "\n",
    "learning_rate = 0.0001\n",
    "steps_per_epoch = 50\n",
    "validation_steps = 10\n",
    "epochs = 5\n",
    "\n",
    "triplet_siamese_network = generate_siamese_triplet_network(image_size)\n",
    "\n",
    "triplet_siamese_model = SiameseTripletModel(triplet_siamese_network)\n",
    "\n",
    "triplet_siamese_model.compile(optimizer=tf.keras.optimizers.Adam(learning_rate))\n",
    "triplet_siamese_model.summary()\n",
    "\n",
    "triplet_siamese_model.load_weights(\"5epoch_model.weights.h5\")"
   ]
  },
  {
   "cell_type": "code",
   "execution_count": null,
   "id": "f241c36b-975a-4af6-90ea-e068f7c7ab31",
   "metadata": {},
   "outputs": [],
   "source": [
    "train_dataset, val_dataset, test_dataset = create_dataset(database_path, split_ratio, image_size, batch_size)"
   ]
  },
  {
   "cell_type": "code",
   "execution_count": null,
   "id": "49347c46-5b29-4d64-88c3-099fd868f5cd",
   "metadata": {},
   "outputs": [],
   "source": [
    "from PIL import Image\n",
    "import matplotlib.pyplot as plt"
   ]
  },
  {
   "cell_type": "code",
   "execution_count": null,
   "id": "55686636-95f6-4214-8f50-a4dbdc8d262a",
   "metadata": {},
   "outputs": [],
   "source": [
    "def visualize_test_dataset(test_dataset):\n",
    "    # Iterate through the test dataset dictionary\n",
    "    for image_path, label in test_dataset.items():\n",
    "        # Open the image using PIL\n",
    "        image = Image.open(image_path)\n",
    "\n",
    "        # Display the image using Matplotlib\n",
    "        plt.figure()\n",
    "        plt.imshow(image)\n",
    "        plt.title(f\"Label: {label}\")\n",
    "        plt.axis('off')\n",
    "        plt.show()"
   ]
  },
  {
   "cell_type": "code",
   "execution_count": null,
   "id": "725fa89c-1dd2-46ea-ba96-23eabc25e7ca",
   "metadata": {
    "scrolled": true
   },
   "outputs": [],
   "source": [
    "visualize_test_dataset(test_dataset)"
   ]
  },
  {
   "cell_type": "code",
   "execution_count": null,
   "id": "b8ee7ca2-2248-430e-95d7-be4b041c001a",
   "metadata": {},
   "outputs": [],
   "source": []
  }
 ],
 "metadata": {
  "kernelspec": {
   "display_name": "Python 3 (ipykernel)",
   "language": "python",
   "name": "python3"
  },
  "language_info": {
   "codemirror_mode": {
    "name": "ipython",
    "version": 3
   },
   "file_extension": ".py",
   "mimetype": "text/x-python",
   "name": "python",
   "nbconvert_exporter": "python",
   "pygments_lexer": "ipython3",
   "version": "3.11.8"
  }
 },
 "nbformat": 4,
 "nbformat_minor": 5
}
