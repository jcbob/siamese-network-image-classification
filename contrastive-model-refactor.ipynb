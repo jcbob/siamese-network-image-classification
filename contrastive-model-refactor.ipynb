{
 "cells": [
  {
   "cell_type": "markdown",
   "id": "463ec0b4-769e-4a49-a002-2918eca255c7",
   "metadata": {},
   "source": [
    "# Define parameters"
   ]
  },
  {
   "cell_type": "code",
   "execution_count": null,
   "id": "81efbaba-14f4-4a0c-af35-d54098465c7b",
   "metadata": {},
   "outputs": [
    {
     "name": "stdout",
     "output_type": "stream",
     "text": [
      "WARNING:tensorflow:From C:\\Users\\tokar\\anaconda3\\lib\\site-packages\\keras\\src\\losses.py:2976: The name tf.losses.sparse_softmax_cross_entropy is deprecated. Please use tf.compat.v1.losses.sparse_softmax_cross_entropy instead.\n",
      "\n"
     ]
    }
   ],
   "source": [
    "import tensorflow as tf\n",
    "import numpy as np\n",
    "import random\n",
    "import os\n",
    "import loadDataset_contrastive as ldc\n",
    "import ContrastiveModel as cm"
   ]
  },
  {
   "cell_type": "code",
   "execution_count": null,
   "id": "0dbbd246-6604-463b-b331-e6ae69752f91",
   "metadata": {},
   "outputs": [],
   "source": [
    "\n",
    "# model input image size\n",
    "IMAGE_SIZE = (100,100)\n",
    "\n",
    "# batch size and the buffer size\n",
    "\n",
    "BATCH_SIZE = 256\n",
    "BUFFER_SIZE = BATCH_SIZE * 2\n",
    "\n",
    "# define autotune\n",
    "AUTO = tf.data.AUTOTUNE\n",
    "\n",
    "# define the training parameters\n",
    "LEARNING_RATE = 0.0001\n",
    "STEPS_PER_EPOCH = 20\n",
    "VALIDATION_STEPS = 10\n",
    "EPOCHS = 30\n",
    "\n",
    "# define the path to save the model\n",
    "OUTPUT_PATH = \"output\"\n",
    "MODEL_PATH = os.path.join(OUTPUT_PATH, \"siamese_network\")\n",
    "OUTPUT_IMAGE_PATH = os.path.join(OUTPUT_PATH, \"output_image.png\")\n",
    "\n",
    "epochs = 20\n",
    "batch_size = 128\n",
    "margin = 1 "
   ]
  },
  {
   "cell_type": "markdown",
   "id": "eeea3ec8-5bfa-48f7-8caf-60abd59e1b43",
   "metadata": {},
   "source": [
    "# Creating datasets"
   ]
  },
  {
   "cell_type": "code",
   "execution_count": null,
   "id": "02e20fd7-ef07-4bc8-9833-1195e99bed05",
   "metadata": {},
   "outputs": [],
   "source": [
    "dataset_path=r\"C:\\Users\\tokar\\Downloads\\archive\"\n",
    "\n",
    "train_data, val_data, test_data = ldc.create_dataset(dataset_path, (100, 100), 32)\n",
    "\n"
   ]
  },
  {
   "cell_type": "markdown",
   "id": "cec1bb49-be73-4601-a708-02b774b0927f",
   "metadata": {},
   "source": [
    "# Creating model"
   ]
  },
  {
   "cell_type": "code",
   "execution_count": null,
   "id": "776522ed-4ab3-4694-a76a-533aad0d2cc5",
   "metadata": {},
   "outputs": [
    {
     "name": "stdout",
     "output_type": "stream",
     "text": [
      "WARNING:tensorflow:From C:\\Users\\tokar\\anaconda3\\lib\\site-packages\\keras\\src\\backend.py:1398: The name tf.executing_eagerly_outside_functions is deprecated. Please use tf.compat.v1.executing_eagerly_outside_functions instead.\n",
      "\n",
      "WARNING:tensorflow:From C:\\Users\\tokar\\anaconda3\\lib\\site-packages\\keras\\src\\layers\\normalization\\batch_normalization.py:979: The name tf.nn.fused_batch_norm is deprecated. Please use tf.compat.v1.nn.fused_batch_norm instead.\n",
      "\n"
     ]
    }
   ],
   "source": [
    "img_shape=(100,100,3)\n",
    "\n",
    "embedding_network=cm.create_embedding(img_shape)\n",
    "\n",
    "siamese=cm.create_model(embedding_network, img_shape)\n",
    "\n"
   ]
  },
  {
   "cell_type": "markdown",
   "id": "be8ad9d7-dabe-4ef4-98ab-b209198e3c65",
   "metadata": {},
   "source": []
  },
  {
   "cell_type": "code",
   "execution_count": null,
   "id": "e57db844-8328-4b93-aa2e-4635ccdda685",
   "metadata": {},
   "outputs": [],
   "source": []
  },
  {
   "cell_type": "code",
   "execution_count": null,
   "id": "6d8eb2ce-7f9a-4d94-a14d-cb0877d3ca8e",
   "metadata": {},
   "outputs": [
    {
     "name": "stdout",
     "output_type": "stream",
     "text": [
      "WARNING:tensorflow:From C:\\Users\\tokar\\anaconda3\\lib\\site-packages\\keras\\src\\optimizers\\__init__.py:309: The name tf.train.Optimizer is deprecated. Please use tf.compat.v1.train.Optimizer instead.\n",
      "\n",
      "Model: \"model_1\"\n",
      "__________________________________________________________________________________________________\n",
      " Layer (type)                Output Shape                 Param #   Connected to                  \n",
      "==================================================================================================\n",
      " input_2 (InputLayer)        [(None, 100, 100, 3)]        0         []                            \n",
      "                                                                                                  \n",
      " input_3 (InputLayer)        [(None, 100, 100, 3)]        0         []                            \n",
      "                                                                                                  \n",
      " model (Functional)          (None, 100)                  807408    ['input_2[0][0]',             \n",
      "                                                                     'input_3[0][0]']             \n",
      "                                                                                                  \n",
      " lambda (Lambda)             (None, 1)                    0         ['model[0][0]',               \n",
      "                                                                     'model[1][0]']               \n",
      "                                                                                                  \n",
      " batch_normalization_2 (Bat  (None, 1)                    4         ['lambda[0][0]']              \n",
      " chNormalization)                                                                                 \n",
      "                                                                                                  \n",
      " dense_1 (Dense)             (None, 1)                    2         ['batch_normalization_2[0][0]'\n",
      "                                                                    ]                             \n",
      "                                                                                                  \n",
      "==================================================================================================\n",
      "Total params: 807414 (3.08 MB)\n",
      "Trainable params: 791918 (3.02 MB)\n",
      "Non-trainable params: 15496 (60.53 KB)\n",
      "__________________________________________________________________________________________________\n"
     ]
    }
   ],
   "source": [
    "siamese.compile(loss=cm.loss(margin=margin), optimizer=\"RMSprop\", metrics=[\"accuracy\"])\n",
    "siamese.summary()"
   ]
  },
  {
   "cell_type": "code",
   "execution_count": 8,
   "id": "5231b7df-facb-4ef2-8e31-223d1253bac0",
   "metadata": {},
   "outputs": [
    {
     "name": "stdout",
     "output_type": "stream",
     "text": [
      "Epoch 1/30\n",
      "WARNING:tensorflow:From C:\\Users\\tokar\\anaconda3\\lib\\site-packages\\keras\\src\\utils\\tf_utils.py:492: The name tf.ragged.RaggedTensorValue is deprecated. Please use tf.compat.v1.ragged.RaggedTensorValue instead.\n",
      "\n",
      "WARNING:tensorflow:From C:\\Users\\tokar\\anaconda3\\lib\\site-packages\\keras\\src\\engine\\base_layer_utils.py:384: The name tf.executing_eagerly_outside_functions is deprecated. Please use tf.compat.v1.executing_eagerly_outside_functions instead.\n",
      "\n",
      "20/20 [==============================] - 9s 298ms/step - loss: 0.2605 - accuracy: 0.5203 - val_loss: 0.3446 - val_accuracy: 0.2812\n",
      "Epoch 2/30\n",
      "20/20 [==============================] - 5s 258ms/step - loss: 0.2566 - accuracy: 0.5203 - val_loss: 0.3339 - val_accuracy: 0.3781\n",
      "Epoch 3/30\n",
      "20/20 [==============================] - 5s 243ms/step - loss: 0.2423 - accuracy: 0.5688 - val_loss: 0.3031 - val_accuracy: 0.4531\n",
      "Epoch 4/30\n",
      "20/20 [==============================] - 4s 229ms/step - loss: 0.2359 - accuracy: 0.5734 - val_loss: 0.2729 - val_accuracy: 0.4844\n",
      "Epoch 5/30\n",
      "20/20 [==============================] - 5s 256ms/step - loss: 0.2340 - accuracy: 0.6031 - val_loss: 0.2795 - val_accuracy: 0.4656\n",
      "Epoch 6/30\n",
      "20/20 [==============================] - 5s 242ms/step - loss: 0.2265 - accuracy: 0.6469 - val_loss: 0.2825 - val_accuracy: 0.4375\n",
      "Epoch 7/30\n",
      "20/20 [==============================] - 7s 348ms/step - loss: 0.2181 - accuracy: 0.6828 - val_loss: 0.2789 - val_accuracy: 0.4500\n",
      "Epoch 8/30\n",
      "20/20 [==============================] - 6s 288ms/step - loss: 0.2133 - accuracy: 0.7078 - val_loss: 0.2462 - val_accuracy: 0.5656\n",
      "Epoch 9/30\n",
      "20/20 [==============================] - 5s 260ms/step - loss: 0.2096 - accuracy: 0.7250 - val_loss: 0.2363 - val_accuracy: 0.5781\n",
      "Epoch 10/30\n",
      "20/20 [==============================] - 5s 232ms/step - loss: 0.2061 - accuracy: 0.7328 - val_loss: 0.2330 - val_accuracy: 0.6219\n",
      "Epoch 11/30\n",
      "20/20 [==============================] - 4s 210ms/step - loss: 0.1975 - accuracy: 0.7922 - val_loss: 0.2143 - val_accuracy: 0.7281\n",
      "Epoch 12/30\n",
      "20/20 [==============================] - 4s 195ms/step - loss: 0.1973 - accuracy: 0.8141 - val_loss: 0.2244 - val_accuracy: 0.6438\n",
      "Epoch 13/30\n",
      "20/20 [==============================] - 4s 214ms/step - loss: 0.1887 - accuracy: 0.8375 - val_loss: 0.2038 - val_accuracy: 0.7125\n",
      "Epoch 14/30\n",
      "20/20 [==============================] - 4s 204ms/step - loss: 0.1857 - accuracy: 0.8703 - val_loss: 0.1994 - val_accuracy: 0.7531\n",
      "Epoch 15/30\n",
      "20/20 [==============================] - 4s 216ms/step - loss: 0.1783 - accuracy: 0.8938 - val_loss: 0.1724 - val_accuracy: 0.8625\n",
      "Epoch 16/30\n",
      "20/20 [==============================] - 4s 202ms/step - loss: 0.1751 - accuracy: 0.8953 - val_loss: 0.1781 - val_accuracy: 0.8813\n",
      "Epoch 17/30\n",
      "20/20 [==============================] - 4s 213ms/step - loss: 0.1734 - accuracy: 0.9062 - val_loss: 0.1757 - val_accuracy: 0.8875\n",
      "Epoch 18/30\n",
      "20/20 [==============================] - 4s 196ms/step - loss: 0.1685 - accuracy: 0.9078 - val_loss: 0.1639 - val_accuracy: 0.9062\n",
      "Epoch 19/30\n",
      "20/20 [==============================] - 4s 196ms/step - loss: 0.1571 - accuracy: 0.9344 - val_loss: 0.1698 - val_accuracy: 0.8969\n",
      "Epoch 20/30\n",
      "20/20 [==============================] - 4s 195ms/step - loss: 0.1527 - accuracy: 0.9453 - val_loss: 0.1517 - val_accuracy: 0.9375\n",
      "Epoch 21/30\n",
      "20/20 [==============================] - 4s 193ms/step - loss: 0.1511 - accuracy: 0.9328 - val_loss: 0.1557 - val_accuracy: 0.9125\n",
      "Epoch 22/30\n",
      "20/20 [==============================] - 4s 192ms/step - loss: 0.1437 - accuracy: 0.9391 - val_loss: 0.1488 - val_accuracy: 0.9219\n",
      "Epoch 23/30\n",
      "20/20 [==============================] - 4s 200ms/step - loss: 0.1381 - accuracy: 0.9406 - val_loss: 0.1469 - val_accuracy: 0.9187\n",
      "Epoch 24/30\n",
      "20/20 [==============================] - 4s 193ms/step - loss: 0.1311 - accuracy: 0.9516 - val_loss: 0.1291 - val_accuracy: 0.9406\n",
      "Epoch 25/30\n",
      "20/20 [==============================] - 4s 186ms/step - loss: 0.1304 - accuracy: 0.9391 - val_loss: 0.1300 - val_accuracy: 0.9250\n",
      "Epoch 26/30\n",
      "20/20 [==============================] - 3s 169ms/step - loss: 0.1268 - accuracy: 0.9297 - val_loss: 0.1377 - val_accuracy: 0.8969\n",
      "Epoch 27/30\n",
      "20/20 [==============================] - 3s 179ms/step - loss: 0.1153 - accuracy: 0.9516 - val_loss: 0.1181 - val_accuracy: 0.9406\n",
      "Epoch 28/30\n",
      "20/20 [==============================] - 4s 185ms/step - loss: 0.1161 - accuracy: 0.9422 - val_loss: 0.1159 - val_accuracy: 0.9406\n",
      "Epoch 29/30\n",
      "20/20 [==============================] - 4s 186ms/step - loss: 0.1182 - accuracy: 0.9328 - val_loss: 0.1153 - val_accuracy: 0.9312\n",
      "Epoch 30/30\n",
      "20/20 [==============================] - 3s 178ms/step - loss: 0.1166 - accuracy: 0.9172 - val_loss: 0.1133 - val_accuracy: 0.9281\n"
     ]
    }
   ],
   "source": [
    "history = siamese.fit(\n",
    "    train_data,\n",
    "    validation_data=val_data,\n",
    "    steps_per_epoch=STEPS_PER_EPOCH,\n",
    "    validation_steps=VALIDATION_STEPS,\n",
    "    epochs=30\n",
    ")"
   ]
  },
  {
   "cell_type": "code",
   "execution_count": null,
   "id": "d2c4d17e-d593-4a09-9d2e-183892efb70e",
   "metadata": {},
   "outputs": [],
   "source": []
  }
 ],
 "metadata": {
  "kernelspec": {
   "display_name": "Python 3 (ipykernel)",
   "language": "python",
   "name": "python3"
  },
  "language_info": {
   "codemirror_mode": {
    "name": "ipython",
    "version": 3
   },
   "file_extension": ".py",
   "mimetype": "text/x-python",
   "name": "python",
   "nbconvert_exporter": "python",
   "pygments_lexer": "ipython3",
   "version": "3.9.7"
  }
 },
 "nbformat": 4,
 "nbformat_minor": 5
}
