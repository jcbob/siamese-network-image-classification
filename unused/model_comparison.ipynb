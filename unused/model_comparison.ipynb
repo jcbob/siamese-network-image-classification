{
 "cells": [
  {
   "cell_type": "code",
   "execution_count": 14,
   "id": "3fac9514-cdb4-493d-943c-c812a30bd6a4",
   "metadata": {},
   "outputs": [],
   "source": [
    "import numpy as np"
   ]
  },
  {
   "cell_type": "code",
   "execution_count": 15,
   "id": "be119fd0-d651-4777-b6f0-47d8a8ef923c",
   "metadata": {},
   "outputs": [],
   "source": [
    "def euclidean_distance(vects):\n",
    "    \"\"\"Find the Euclidean distance between two vectors.\n",
    "\n",
    "    Arguments:\n",
    "        vects: List containing two tensors of same length.\n",
    "\n",
    "    Returns:\n",
    "        Tensor containing euclidean distance\n",
    "        (as floating point value) between vectors.\n",
    "    \"\"\"\n",
    "\n",
    "    x, y = vects\n",
    "    sum_square = tf.keras.backend.sum(tf.keras.backend.square(x - y), axis=1, keepdims=True)\n",
    "    return tf.keras.backend.sqrt(tf.keras.backend.maximum(sum_square, tf.keras.backend.epsilon()))"
   ]
  },
  {
   "cell_type": "code",
   "execution_count": 16,
   "id": "3a0fa9b8-5088-4051-a3e8-1c3c01b18246",
   "metadata": {},
   "outputs": [],
   "source": [
    "def euclidean_distance(vec1, vec2):\n",
    "    return np.linalg.norm(vec1 - vec2)\n",
    "\n",
    "def top1_accuracy(vector_anchor, list_of_vectors):\n",
    "    closest_vec = None\n",
    "    min_distance = float('inf')\n",
    "    for vector in list_of_vectors:\n",
    "        distance = euclidean_distance(vector_anchor, vector)\n",
    "        if distance < min_distance:\n",
    "            min_distance = distance\n",
    "            closest_vec = vector\n",
    "    return closest_vec\n",
    "\n",
    "#def top3_accuracy(vector_anchor, list_of_vectors):\n",
    "#    closest_3_vecs = []"
   ]
  },
  {
   "cell_type": "code",
   "execution_count": 17,
   "id": "90bebc98-e2dd-4e7e-bc2b-f3084c9349cc",
   "metadata": {},
   "outputs": [],
   "source": [
    "vector1 = np.array([1,2,3])\n",
    "vector_list = np.array([[2, 2,3], [-3, -2, -1], [10, 20,30]])"
   ]
  },
  {
   "cell_type": "code",
   "execution_count": 18,
   "id": "9681046d-5d81-4084-9588-aa5f7443c39a",
   "metadata": {},
   "outputs": [
    {
     "data": {
      "text/plain": [
       "array([2, 2, 3])"
      ]
     },
     "execution_count": 18,
     "metadata": {},
     "output_type": "execute_result"
    }
   ],
   "source": [
    "top1_accuracy(vector1, vector_list)"
   ]
  }
 ],
 "metadata": {
  "kernelspec": {
   "display_name": "tensorflow_env_kernel",
   "language": "python",
   "name": "tensorflow_env"
  },
  "language_info": {
   "codemirror_mode": {
    "name": "ipython",
    "version": 3
   },
   "file_extension": ".py",
   "mimetype": "text/x-python",
   "name": "python",
   "nbconvert_exporter": "python",
   "pygments_lexer": "ipython3",
   "version": "3.11.8"
  }
 },
 "nbformat": 4,
 "nbformat_minor": 5
}
